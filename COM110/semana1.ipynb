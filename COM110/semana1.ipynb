{
  "nbformat": 4,
  "nbformat_minor": 0,
  "metadata": {
    "colab": {
      "provenance": [],
      "toc_visible": true,
      "authorship_tag": "ABX9TyObm7qfEc50Hj07VuvMvgi0",
      "include_colab_link": true
    },
    "kernelspec": {
      "name": "python3",
      "display_name": "Python 3"
    },
    "language_info": {
      "name": "python"
    }
  },
  "cells": [
    {
      "cell_type": "markdown",
      "metadata": {
        "id": "view-in-github",
        "colab_type": "text"
      },
      "source": [
        "<a href=\"https://colab.research.google.com/github/N111N3/univesp-CD/blob/master/COM110/semana1.ipynb\" target=\"_parent\"><img src=\"https://colab.research.google.com/assets/colab-badge.svg\" alt=\"Open In Colab\"/></a>"
      ]
    },
    {
      "cell_type": "markdown",
      "source": [
        "# **COM110 - Algoritmos e Programação de Computadores I**\n",
        "\n"
      ],
      "metadata": {
        "id": "hcHtA9PtiCud"
      }
    },
    {
      "cell_type": "markdown",
      "source": [
        "## **Semana 1: Introdução a Algoritmos e a Python**"
      ],
      "metadata": {
        "id": "6GthWk__hwTJ"
      }
    },
    {
      "cell_type": "markdown",
      "source": [
        "###**Exercício 1**\n",
        "[Cap. 3 – Ex. 4a]\n",
        "\n",
        "Ler uma temperatura em graus Celsius e apresentá-la convertida em graus Fahrenheit. A fórmula de conversão é F ← C * 9 / 5 + 32, sendo F a temperatura em Fahrenheit e C a temperatura em Celsius.\n"
      ],
      "metadata": {
        "id": "aFppSaDYiKXm"
      }
    },
    {
      "cell_type": "code",
      "execution_count": 4,
      "metadata": {
        "colab": {
          "base_uri": "https://localhost:8080/"
        },
        "id": "7Vcm1iYCaexU",
        "outputId": "19bfd0c2-5771-4c89-ec59-a2fe009c8451"
      },
      "outputs": [
        {
          "name": "stdout",
          "output_type": "stream",
          "text": [
            "Digite uma temperatura em graus Celsius para conversão: 100\n",
            "Celsius: 100.0°C / Fahrenheit: 212.0°F\n",
            "Deseja fazer nova conversão? Digite S para continuar ou N para sair. d\n"
          ]
        }
      ],
      "source": [
        "def celsius_para_far():\n",
        "    while True:\n",
        "        temp_celsius = float(input('Digite uma temperatura em graus Celsius para conversão: '))\n",
        "        temp_far = (temp_celsius * 9) / 5 + 32\n",
        "        print(f'Celsius: {temp_celsius}°C / Fahrenheit: {temp_far}°F')\n",
        "        continuar = input(f'Deseja fazer nova conversão? Digite S para continuar ou N para sair. ')\n",
        "\n",
        "        if continuar in ['S','s']:\n",
        "            continue\n",
        "        else:\n",
        "            break\n",
        "\n",
        "celsius_para_far()"
      ]
    },
    {
      "cell_type": "markdown",
      "source": [
        "###**Exercício 2**\n",
        "\n",
        "Primeiro, execute a atribuição palavras =\n",
        "['taco', 'bola', 'celeiro', 'cesta', 'peteca']\n",
        "\n",
        "Agora, escreva duas expressões Python que são avaliadas, respectivamente, como a\n",
        "primeira e a última palavras em palavras, na ordem do dicionário.\n"
      ],
      "metadata": {
        "id": "abIXdlqGipbd"
      }
    },
    {
      "cell_type": "code",
      "source": [
        "palavras = ['taco', 'bola', 'celeiro', 'cesta', 'peteca']\n",
        "\n",
        "def primeira_ultima(lista_palavras):\n",
        "    palavras_ordem = sorted(lista_palavras)\n",
        "    print(f'''Lista inicial {palavras}\n",
        "          Primeira palavra: {palavras_ordem[0]} | Última palavra: {palavras_ordem[-1]}''')\n",
        "\n",
        "primeira_ultima(palavras)"
      ],
      "metadata": {
        "colab": {
          "base_uri": "https://localhost:8080/"
        },
        "id": "DPFpnp9FjLRI",
        "outputId": "ae62e2da-276f-4585-ffb4-4074f7b5faba"
      },
      "execution_count": 7,
      "outputs": [
        {
          "output_type": "stream",
          "name": "stdout",
          "text": [
            "Lista inicial ['taco', 'bola', 'celeiro', 'cesta', 'peteca']\n",
            "          Primeira palavra: bola | Última palavra: taco\n"
          ]
        }
      ]
    },
    {
      "cell_type": "markdown",
      "source": [
        "###**Exercício 3**\n",
        "[Cap. 4 - Ex. 3c]\n",
        "\n",
        "Realizar a leitura dos valores de quatro notas escolares bimestrais de um aluno\n",
        "representadas pelas variáveis N1, N2, N3 e N4.\n",
        "\n",
        "Calcular a média aritmética\n",
        "(variável MD) desse aluno e apresentar a mensagem “Aluno Aprovado com média” se a\n",
        "média obtida for maior ou igual a 5; caso contrário, apresentar a mensagem “Aluno\n",
        "Reprovado com média”.\n",
        "\n",
        "Informar também, após a apresentação das mensagens, o valor\n",
        "da média obtida pelo aluno."
      ],
      "metadata": {
        "id": "pbp2a-l8i8vO"
      }
    },
    {
      "cell_type": "code",
      "source": [
        "def calculadora_media():\n",
        "    while True:\n",
        "\n",
        "        n1 = float(input('Insira a primeira nota: '))\n",
        "        n2 = float(input('Insira a segunda nota: '))\n",
        "        n3 = float(input('Insira a terceira nota: '))\n",
        "        n4 = float(input('Insira a quarta nota: '))\n",
        "\n",
        "        md = (n1 + n2 + n3 + n4) / 4\n",
        "\n",
        "        if md >= 5:\n",
        "            print(f'Aluno aprovado com média: {md} :D')\n",
        "        else:\n",
        "            print(f'Aluno reprovado com média: {md} :C')\n",
        "\n",
        "        continuar = input(f'Deseja fazer nova conversão? Digite S para continuar ou N para sair. ')\n",
        "\n",
        "        if continuar in ['S','s']:\n",
        "            continue\n",
        "        else:\n",
        "            break\n",
        "\n",
        "calculadora_media()"
      ],
      "metadata": {
        "colab": {
          "base_uri": "https://localhost:8080/"
        },
        "id": "nh2nLaiujKBY",
        "outputId": "0e825e5f-73e7-45df-ef0c-7aa2e53bb880"
      },
      "execution_count": 12,
      "outputs": [
        {
          "name": "stdout",
          "output_type": "stream",
          "text": [
            "Insira a primeira nota: 5\n",
            "Insira a segunda nota: 5\n",
            "Insira a terceira nota: 5\n",
            "Insira a quarta nota: 5\n",
            "Aluno aprovado com média: 5.0 :D\n",
            "Deseja fazer nova conversão? Digite S para continuar ou N para sair. l\n"
          ]
        }
      ]
    },
    {
      "cell_type": "markdown",
      "source": [
        "###**Exercício 4**\n",
        "[Cap. 5 - Ex. 1c]\n",
        "\n",
        "\n",
        "Desenvolver os diagramas de blocos e as codificações em português estruturado usando\n",
        "laço incondicional (para) do seguinte problema: Construir um programa que apresente a soma dos cem primeiros números naturais (1 + 2 + 3 +...+ 98 + 99 + 100)."
      ],
      "metadata": {
        "id": "qMfnAUmvjKVd"
      }
    },
    {
      "cell_type": "code",
      "source": [
        "def soma_numeros(num_maximo):\n",
        "    soma_total = 0\n",
        "    for numero in range(num_maximo + 1):\n",
        "        soma_total += numero\n",
        "    print(f'A soma total dos números de 0 a {num_maximo} é {soma_total}.')\n",
        "\n",
        "soma_numeros(10)"
      ],
      "metadata": {
        "colab": {
          "base_uri": "https://localhost:8080/"
        },
        "id": "At3WQjEojWw6",
        "outputId": "10427658-2339-4bbe-e010-13db812d0315"
      },
      "execution_count": 16,
      "outputs": [
        {
          "output_type": "stream",
          "name": "stdout",
          "text": [
            "A soma total dos números de 0 a 10 é 55.\n"
          ]
        }
      ]
    }
  ]
}