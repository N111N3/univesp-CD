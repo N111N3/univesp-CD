{
  "nbformat": 4,
  "nbformat_minor": 0,
  "metadata": {
    "colab": {
      "provenance": [],
      "toc_visible": true,
      "authorship_tag": "ABX9TyMIQf3u8hM5lVcDFskmpGg6",
      "include_colab_link": true
    },
    "kernelspec": {
      "name": "python3",
      "display_name": "Python 3"
    },
    "language_info": {
      "name": "python"
    }
  },
  "cells": [
    {
      "cell_type": "markdown",
      "metadata": {
        "id": "view-in-github",
        "colab_type": "text"
      },
      "source": [
        "<a href=\"https://colab.research.google.com/github/N111N3/univesp-CD/blob/master/COM110/semana2.ipynb\" target=\"_parent\"><img src=\"https://colab.research.google.com/assets/colab-badge.svg\" alt=\"Open In Colab\"/></a>"
      ]
    },
    {
      "cell_type": "markdown",
      "source": [
        "# **COM110 - Algoritmos e Programação de Computadores I**\n",
        "\n"
      ],
      "metadata": {
        "id": "hcHtA9PtiCud"
      }
    },
    {
      "cell_type": "markdown",
      "source": [
        "## **Semana 2: Tipos de Dados (Parte 1)**\n",
        "\n",
        "\n",
        "Prática de exercícios da semana, retirados do livro [*Introdução a Computação Usando Python*](https://integrada.minhabiblioteca.com.br/reader/books/9788521630937/), de Ljubomir Perkovic.\n"
      ],
      "metadata": {
        "id": "6GthWk__hwTJ"
      }
    },
    {
      "cell_type": "markdown",
      "source": [
        "###**Exercício 1**\n",
        "\n",
        "Escreva expressões algébricas Python correspondentes aos seguintes comandos:"
      ],
      "metadata": {
        "id": "aFppSaDYiKXm"
      }
    },
    {
      "cell_type": "markdown",
      "source": [
        "**a.** A soma dos 5 primeiros inteiros positivos."
      ],
      "metadata": {
        "id": "6v6SnzsnV6MD"
      }
    },
    {
      "cell_type": "code",
      "source": [
        "def soma_numeros_positivos(quantidade):\n",
        "    numeros_somados = []\n",
        "    soma = 0\n",
        "    for numero in range(1,quantidade+1):\n",
        "        numeros_somados.append(numero)\n",
        "        soma += numero\n",
        "\n",
        "    print(f'A soma dos {quantidade} primeiros inteiros positivos é: {soma}.')\n",
        "\n",
        "soma_numeros_positivos(5)"
      ],
      "metadata": {
        "colab": {
          "base_uri": "https://localhost:8080/"
        },
        "id": "xF9MVUHPWNGC",
        "outputId": "3c6efe22-bbc1-4ac5-dec1-a50c84fc7167"
      },
      "execution_count": 17,
      "outputs": [
        {
          "output_type": "stream",
          "name": "stdout",
          "text": [
            "A soma dos 5 primeiros inteiros positivos é: 15.\n"
          ]
        }
      ]
    },
    {
      "cell_type": "markdown",
      "source": [
        "**b.** A idade média de Sara (idade 23), Mark (idade 19) e Fátima (idade 31)."
      ],
      "metadata": {
        "id": "UUFKDghaWOUX"
      }
    },
    {
      "cell_type": "code",
      "source": [
        "sara = 23\n",
        "mark = 19\n",
        "fatima = 31\n",
        "\n",
        "media = int((sara + mark + fatima) / 3)\n",
        "\n",
        "print(f'A média das idades é: {media}.')"
      ],
      "metadata": {
        "colab": {
          "base_uri": "https://localhost:8080/"
        },
        "id": "dHimnm9EWQB5",
        "outputId": "61ebae6f-93b9-402c-cc70-992b692334f8"
      },
      "execution_count": 19,
      "outputs": [
        {
          "output_type": "stream",
          "name": "stdout",
          "text": [
            "A média das idades é: 24.\n"
          ]
        }
      ]
    },
    {
      "cell_type": "markdown",
      "source": [
        "**c.** O número de vezes que 73 cabe em 403."
      ],
      "metadata": {
        "id": "b1HYvnIjWScA"
      }
    },
    {
      "cell_type": "code",
      "source": [
        "recipiente = 403\n",
        "conteudo = 73\n",
        "quantas_vezes = recipiente // conteudo\n",
        "\n",
        "print(f'O número {recipiente} cabe {quantas_vezes} vezes em {conteudo}.')"
      ],
      "metadata": {
        "colab": {
          "base_uri": "https://localhost:8080/"
        },
        "id": "K0h2djf5WU53",
        "outputId": "d7e7b0d2-96a3-4d60-cd84-67306cec927c"
      },
      "execution_count": 21,
      "outputs": [
        {
          "output_type": "stream",
          "name": "stdout",
          "text": [
            "O número 403 cabe 5 em 73.\n"
          ]
        }
      ]
    },
    {
      "cell_type": "markdown",
      "source": [
        "**d.** O resto de quando 403 é dividido por 73."
      ],
      "metadata": {
        "id": "WeVgKOBZWbl9"
      }
    },
    {
      "cell_type": "code",
      "source": [
        "recipiente = 403\n",
        "conteudo = 73\n",
        "resto = recipiente % conteudo\n",
        "\n",
        "print(f'Sobra {resto} quando {recipiente} é divido por {conteudo}.')"
      ],
      "metadata": {
        "colab": {
          "base_uri": "https://localhost:8080/"
        },
        "id": "MtEycqU9WdTD",
        "outputId": "dfdc4992-fad2-437a-e9d9-06a39e9fd270"
      },
      "execution_count": 22,
      "outputs": [
        {
          "output_type": "stream",
          "name": "stdout",
          "text": [
            "Sobra 38 quando 403 é divido por 73.\n"
          ]
        }
      ]
    },
    {
      "cell_type": "markdown",
      "source": [
        "**e.** 2 à 10ª potência."
      ],
      "metadata": {
        "id": "zQO6udvLWduk"
      }
    },
    {
      "cell_type": "code",
      "source": [
        "def potenciador(base,expoente):\n",
        "    resultado = base ** expoente\n",
        "\n",
        "    print(f'O número {base} elevado a {expoente} é {resultado}')\n",
        "\n",
        "\n",
        "potenciador(3,10)"
      ],
      "metadata": {
        "colab": {
          "base_uri": "https://localhost:8080/"
        },
        "id": "nZjxqoHKWiMZ",
        "outputId": "3958d309-420f-447c-9d65-fb358e9a591a"
      },
      "execution_count": 24,
      "outputs": [
        {
          "output_type": "stream",
          "name": "stdout",
          "text": [
            "O número 3 elevado a 10 é 59049\n"
          ]
        }
      ]
    },
    {
      "cell_type": "markdown",
      "source": [
        "**f.** O valor absoluto da distância entre a altura de Sara (54 polegadas) e a altura de Mark (57 polegadas)."
      ],
      "metadata": {
        "id": "kbNTyn9iWifa"
      }
    },
    {
      "cell_type": "code",
      "source": [
        "mark = 57\n",
        "sara = 54\n",
        "\n",
        "distancia = mark - sara\n",
        "\n",
        "print(f'O valor absoluto da distância entre Sara e Mark é: {distancia} polegadas.')"
      ],
      "metadata": {
        "colab": {
          "base_uri": "https://localhost:8080/"
        },
        "id": "57YIkCTZWntV",
        "outputId": "b1091281-eb4c-4b15-e4db-d43bb98bd8e3"
      },
      "execution_count": 25,
      "outputs": [
        {
          "output_type": "stream",
          "name": "stdout",
          "text": [
            "O valor absoluto da distância entre Sara e Mark é: 3 polegadas.\n"
          ]
        }
      ]
    },
    {
      "cell_type": "markdown",
      "source": [
        "**g.** O menor preço entre os seguintes preços: R$ 34,99, R$ 29,95 e R$ 31,50."
      ],
      "metadata": {
        "id": "Fxfxk0hyWoEK"
      }
    },
    {
      "cell_type": "code",
      "source": [
        "precos = [34.99, 29.95, 31.50]\n",
        "\n",
        "print(f'O maior preço é: R$ {max(precos)}')"
      ],
      "metadata": {
        "colab": {
          "base_uri": "https://localhost:8080/"
        },
        "id": "pThLj8b6Wub1",
        "outputId": "5f2cd7db-bdb3-4524-dcd5-36832ee75062"
      },
      "execution_count": 27,
      "outputs": [
        {
          "output_type": "stream",
          "name": "stdout",
          "text": [
            "O maior preço é: R$ 34.99\n"
          ]
        }
      ]
    },
    {
      "cell_type": "markdown",
      "source": [
        "###**Exercício 2**  \n",
        "\n",
        "\n",
        "Traduza os comandos a seguir para expressões Booleanas em Python e avalie-as:"
      ],
      "metadata": {
        "id": "abIXdlqGipbd"
      }
    },
    {
      "cell_type": "markdown",
      "source": [
        "**a.** A soma de 2 e 2 é menor que 4.\n"
      ],
      "metadata": {
        "id": "SlH9oTMDj1ZI"
      }
    },
    {
      "cell_type": "code",
      "source": [
        "operacao = 2 + 2\n",
        "avaliacao = False\n",
        "\n",
        "if operacao < 4:\n",
        "    avaliacao = True\n",
        "\n",
        "print(avaliacao)\n",
        ""
      ],
      "metadata": {
        "colab": {
          "base_uri": "https://localhost:8080/"
        },
        "id": "CeRXW9DpkAPl",
        "outputId": "d999a24d-5a66-41bc-f26b-8cdff0811414"
      },
      "execution_count": 61,
      "outputs": [
        {
          "output_type": "stream",
          "name": "stdout",
          "text": [
            "False\n"
          ]
        }
      ]
    },
    {
      "cell_type": "markdown",
      "source": [
        "**b.** O valor de 7 // 3 é igual a 1 + 1.\n"
      ],
      "metadata": {
        "id": "qmDbWrPaj14r"
      }
    },
    {
      "cell_type": "code",
      "source": [
        "operacao = 7 // 3\n",
        "avaliacao = False\n",
        "\n",
        "if operacao == (1 + 1):\n",
        "    avaliacao = True\n",
        "\n",
        "print(avaliacao)\n",
        ""
      ],
      "metadata": {
        "colab": {
          "base_uri": "https://localhost:8080/"
        },
        "id": "2nMmLFwAkI_v",
        "outputId": "c5c78f4a-360f-40a7-e468-dab9534e58a9"
      },
      "execution_count": 62,
      "outputs": [
        {
          "output_type": "stream",
          "name": "stdout",
          "text": [
            "True\n"
          ]
        }
      ]
    },
    {
      "cell_type": "markdown",
      "source": [
        "**c.** A soma de 3 ao quadrado e 4 ao quadrado é igual a 25.\n"
      ],
      "metadata": {
        "id": "DjNU1Pk5j2i3"
      }
    },
    {
      "cell_type": "code",
      "source": [
        "operacao = (3 ** 2) + (4 ** 2)\n",
        "avaliacao = False\n",
        "\n",
        "if operacao == 25:\n",
        "    avaliacao = True\n",
        "\n",
        "print(avaliacao)\n",
        ""
      ],
      "metadata": {
        "colab": {
          "base_uri": "https://localhost:8080/"
        },
        "id": "zclPwLfhoiLe",
        "outputId": "355713df-6541-4f1c-dfa2-97688f3fa759"
      },
      "execution_count": 63,
      "outputs": [
        {
          "output_type": "stream",
          "name": "stdout",
          "text": [
            "True\n"
          ]
        }
      ]
    },
    {
      "cell_type": "markdown",
      "source": [
        "**d.** A soma de 2, 4 e 6 é maior que 12.\n"
      ],
      "metadata": {
        "id": "CDAGKHWdkL4K"
      }
    },
    {
      "cell_type": "code",
      "source": [
        "operacao = 2 + 4 + 6\n",
        "avaliacao = False\n",
        "\n",
        "if operacao > 12:\n",
        "    avaliacao = True\n",
        "\n",
        "print(avaliacao)\n",
        ""
      ],
      "metadata": {
        "colab": {
          "base_uri": "https://localhost:8080/"
        },
        "id": "GKTgdAIEojCQ",
        "outputId": "bdcf0735-8cc3-4ede-988b-b7b95dceaffc"
      },
      "execution_count": 64,
      "outputs": [
        {
          "output_type": "stream",
          "name": "stdout",
          "text": [
            "False\n"
          ]
        }
      ]
    },
    {
      "cell_type": "markdown",
      "source": [
        "**e.** 1387 é divisível por 19.\n"
      ],
      "metadata": {
        "id": "CvjKTNaskMKs"
      }
    },
    {
      "cell_type": "code",
      "source": [
        "operacao = 1387 % 19\n",
        "avaliacao = False\n",
        "\n",
        "if operacao == 0:\n",
        "    avaliacao = True\n",
        "\n",
        "print(avaliacao)\n",
        ""
      ],
      "metadata": {
        "colab": {
          "base_uri": "https://localhost:8080/"
        },
        "id": "qNfCH2vWoju-",
        "outputId": "511679af-2442-4e8d-80cc-469b0738ed59"
      },
      "execution_count": 65,
      "outputs": [
        {
          "output_type": "stream",
          "name": "stdout",
          "text": [
            "True\n"
          ]
        }
      ]
    },
    {
      "cell_type": "markdown",
      "source": [
        "**f.** 31 é par. (Dica: o que o resto lhe diz quando você divide por 2?)\n"
      ],
      "metadata": {
        "id": "lrVGv9olkMma"
      }
    },
    {
      "cell_type": "code",
      "source": [
        "operacao = 31 % 2\n",
        "avaliacao = False\n",
        "\n",
        "if operacao == 0:\n",
        "    avaliacao = True\n",
        "\n",
        "print(avaliacao)\n",
        ""
      ],
      "metadata": {
        "colab": {
          "base_uri": "https://localhost:8080/"
        },
        "id": "GeUkydjvokTn",
        "outputId": "84eb5ac2-0a32-43c4-f857-6f296d30bd91"
      },
      "execution_count": 66,
      "outputs": [
        {
          "output_type": "stream",
          "name": "stdout",
          "text": [
            "False\n"
          ]
        }
      ]
    },
    {
      "cell_type": "markdown",
      "source": [
        "**g.** O preço mais baixo dentre 34.99, 29.95 e 31.50 é menor que 30.00 reais.\n"
      ],
      "metadata": {
        "id": "QPW9rjc8kNFK"
      }
    },
    {
      "cell_type": "code",
      "source": [
        "operacao = [34.99, 29.95, 31.50]\n",
        "avaliacao = False\n",
        "\n",
        "if min(operacao) < 30.00:\n",
        "    avaliacao = True\n",
        "\n",
        "print(avaliacao)\n",
        ""
      ],
      "metadata": {
        "colab": {
          "base_uri": "https://localhost:8080/"
        },
        "id": "rNqzAEEAolHe",
        "outputId": "577cba59-d3b9-4356-c471-864057a54c71"
      },
      "execution_count": 67,
      "outputs": [
        {
          "output_type": "stream",
          "name": "stdout",
          "text": [
            "True\n"
          ]
        }
      ]
    },
    {
      "cell_type": "markdown",
      "source": [
        "###**Exercício 3**\n",
        "\n",
        "Escreva instruções Python que correspondem às ações a seguir e execute-as:\n"
      ],
      "metadata": {
        "id": "pbp2a-l8i8vO"
      }
    },
    {
      "cell_type": "markdown",
      "source": [
        "**a.** Atribua o valor inteiro 3 à variável a.\n"
      ],
      "metadata": {
        "id": "V9ZA-r07k3cD"
      }
    },
    {
      "cell_type": "code",
      "source": [
        "a = 3"
      ],
      "metadata": {
        "id": "u8Y00yMsoX25"
      },
      "execution_count": 47,
      "outputs": []
    },
    {
      "cell_type": "markdown",
      "source": [
        "**b.** Atribua 4 à variável b.\n"
      ],
      "metadata": {
        "id": "h4X-bwpsk3Qx"
      }
    },
    {
      "cell_type": "code",
      "source": [
        "b = 4"
      ],
      "metadata": {
        "id": "rVno9hSVoYPW"
      },
      "execution_count": 48,
      "outputs": []
    },
    {
      "cell_type": "markdown",
      "source": [
        "**c.** Atribua à variável c o valor da expressão a * a + b * b.\n"
      ],
      "metadata": {
        "id": "SWFqtWV2k3B9"
      }
    },
    {
      "cell_type": "code",
      "source": [
        "c = a * a + b * b\n",
        "print(c)"
      ],
      "metadata": {
        "colab": {
          "base_uri": "https://localhost:8080/"
        },
        "id": "4b8Cy0QqoYzr",
        "outputId": "b6d4c503-1406-48ce-c4ea-9d833025dc48"
      },
      "execution_count": 51,
      "outputs": [
        {
          "output_type": "stream",
          "name": "stdout",
          "text": [
            "25\n"
          ]
        }
      ]
    },
    {
      "cell_type": "markdown",
      "source": [
        "###**Exercício 4**\n",
        "\n",
        "Comece executando as instruções de atribuição:\n",
        "\n",
        "s1 = 'ant'  \n",
        "s2 = 'bat'  \n",
        "s3 = 'cod'\n",
        "            \n",
        "Escreva expressões Python usando s1, s2 e s3 e os operadores + e * a fim de\n",
        "avaliar para:  \n"
      ],
      "metadata": {
        "id": "qMfnAUmvjKVd"
      }
    },
    {
      "cell_type": "code",
      "source": [
        "s1 = 'ant'\n",
        "s2 = 'bat'\n",
        "s3 = 'cod'\n"
      ],
      "metadata": {
        "id": "9K6kXANdltf-"
      },
      "execution_count": 39,
      "outputs": []
    },
    {
      "cell_type": "markdown",
      "source": [
        "**a.** 'ant bat cod'\n"
      ],
      "metadata": {
        "id": "Zy3XEQLClNXf"
      }
    },
    {
      "cell_type": "code",
      "source": [
        "expressao = s1 + ' ' + s2 + ' ' + s3\n",
        "\n",
        "print(expressao)"
      ],
      "metadata": {
        "colab": {
          "base_uri": "https://localhost:8080/"
        },
        "id": "FAEDcURylpb9",
        "outputId": "729135c6-6da7-45a7-d2c2-fe2ecd827c73"
      },
      "execution_count": 41,
      "outputs": [
        {
          "output_type": "stream",
          "name": "stdout",
          "text": [
            "ant bat cod\n"
          ]
        }
      ]
    },
    {
      "cell_type": "markdown",
      "source": [
        "**b.** 'ant ant ant ant ant ant ant ant ant ant'\n"
      ],
      "metadata": {
        "id": "L6ZmuJCIlNtZ"
      }
    },
    {
      "cell_type": "code",
      "source": [
        "expressao = (s1 + ' ')* 10\n",
        "\n",
        "print(expressao)"
      ],
      "metadata": {
        "colab": {
          "base_uri": "https://localhost:8080/"
        },
        "id": "RFbmUXkwlqNa",
        "outputId": "acdf9f1a-2c7f-4e3c-c162-a1c77880c17b"
      },
      "execution_count": 42,
      "outputs": [
        {
          "output_type": "stream",
          "name": "stdout",
          "text": [
            "ant ant ant ant ant ant ant ant ant ant \n"
          ]
        }
      ]
    },
    {
      "cell_type": "markdown",
      "source": [
        "**c.** 'ant bat bat cod cod cod'\n"
      ],
      "metadata": {
        "id": "3qq2hR6FlOC2"
      }
    },
    {
      "cell_type": "code",
      "source": [
        "expressao = s1 + ' ' + (s2 + ' ') * 2 + (s3 + ' ')* 3\n",
        "\n",
        "print(expressao)"
      ],
      "metadata": {
        "colab": {
          "base_uri": "https://localhost:8080/"
        },
        "id": "QiiX-O3wlqkV",
        "outputId": "c4c12c62-5c29-4393-c0e9-adde3c5e6c48"
      },
      "execution_count": 43,
      "outputs": [
        {
          "output_type": "stream",
          "name": "stdout",
          "text": [
            "ant bat bat cod cod cod \n"
          ]
        }
      ]
    },
    {
      "cell_type": "markdown",
      "source": [
        "**d.** 'ant bat ant bat ant bat ant bat ant bat ant bat ant bat'\n"
      ],
      "metadata": {
        "id": "3NH1W1mxlOe7"
      }
    },
    {
      "cell_type": "code",
      "source": [
        "expressao = (s1 + ' ' + s2 + ' ') * 7\n",
        "\n",
        "print(expressao)"
      ],
      "metadata": {
        "colab": {
          "base_uri": "https://localhost:8080/"
        },
        "id": "7oyoTH5XlrhR",
        "outputId": "348f36b0-e7da-4505-9f04-66c9214bf330"
      },
      "execution_count": 45,
      "outputs": [
        {
          "output_type": "stream",
          "name": "stdout",
          "text": [
            "ant bat ant bat ant bat ant bat ant bat ant bat ant bat \n"
          ]
        }
      ]
    },
    {
      "cell_type": "markdown",
      "source": [
        "**e.** 'batbatcod batbatcod batbatcod batbatcod batbatcod'\n"
      ],
      "metadata": {
        "id": "o_ekIfNjlanf"
      }
    },
    {
      "cell_type": "code",
      "source": [
        "expressao = (s2 * 2 + s3 + ' ') * 5\n",
        "\n",
        "print(expressao)"
      ],
      "metadata": {
        "colab": {
          "base_uri": "https://localhost:8080/"
        },
        "id": "5AQof36Xlr_m",
        "outputId": "3de48749-19c5-4264-d2a3-09cc9782a887"
      },
      "execution_count": 46,
      "outputs": [
        {
          "output_type": "stream",
          "name": "stdout",
          "text": [
            "batbatcod batbatcod batbatcod batbatcod batbatcod \n"
          ]
        }
      ]
    },
    {
      "cell_type": "markdown",
      "source": [
        "###**Exercício 5**\n",
        "\n",
        "Comece executando a atribuição:\n",
        "\n",
        "s = '0123456789'\n",
        "\n",
        "Agora, escreva expressões usando a string s e o operador de indexação que é\n",
        "avaliado como:  \n"
      ],
      "metadata": {
        "id": "2uEcqRwkn60i"
      }
    },
    {
      "cell_type": "code",
      "source": [
        "s = '0123456789'"
      ],
      "metadata": {
        "id": "qR4HOk6doyI8"
      },
      "execution_count": 53,
      "outputs": []
    },
    {
      "cell_type": "markdown",
      "source": [
        "**a.** '0'\n"
      ],
      "metadata": {
        "id": "abRj1XRQn_-u"
      }
    },
    {
      "cell_type": "code",
      "source": [
        "s[0]"
      ],
      "metadata": {
        "colab": {
          "base_uri": "https://localhost:8080/",
          "height": 35
        },
        "id": "UaijoapJoSfW",
        "outputId": "e91f3ab0-04c1-473d-d553-b855e4236cf9"
      },
      "execution_count": 54,
      "outputs": [
        {
          "output_type": "execute_result",
          "data": {
            "text/plain": [
              "'0'"
            ],
            "application/vnd.google.colaboratory.intrinsic+json": {
              "type": "string"
            }
          },
          "metadata": {},
          "execution_count": 54
        }
      ]
    },
    {
      "cell_type": "markdown",
      "source": [
        "**b.** '1'\n"
      ],
      "metadata": {
        "id": "JGrkBHzJoAof"
      }
    },
    {
      "cell_type": "code",
      "source": [
        "s[1]"
      ],
      "metadata": {
        "colab": {
          "base_uri": "https://localhost:8080/",
          "height": 35
        },
        "id": "TTF2bqS7oS39",
        "outputId": "129f1d3d-981e-4e3d-d907-83c33d731970"
      },
      "execution_count": 55,
      "outputs": [
        {
          "output_type": "execute_result",
          "data": {
            "text/plain": [
              "'1'"
            ],
            "application/vnd.google.colaboratory.intrinsic+json": {
              "type": "string"
            }
          },
          "metadata": {},
          "execution_count": 55
        }
      ]
    },
    {
      "cell_type": "markdown",
      "source": [
        "**c.** '6'"
      ],
      "metadata": {
        "id": "6qRTdMxyoBRv"
      }
    },
    {
      "cell_type": "code",
      "source": [
        "s[6]"
      ],
      "metadata": {
        "colab": {
          "base_uri": "https://localhost:8080/",
          "height": 35
        },
        "id": "NKyhWk-8oTXi",
        "outputId": "8c66afdc-7470-4a7e-877c-e8a53bf9994a"
      },
      "execution_count": 56,
      "outputs": [
        {
          "output_type": "execute_result",
          "data": {
            "text/plain": [
              "'6'"
            ],
            "application/vnd.google.colaboratory.intrinsic+json": {
              "type": "string"
            }
          },
          "metadata": {},
          "execution_count": 56
        }
      ]
    },
    {
      "cell_type": "markdown",
      "source": [
        "**d.** '8'\n"
      ],
      "metadata": {
        "id": "Wm_XoOEkoBhW"
      }
    },
    {
      "cell_type": "code",
      "source": [
        "s[8]"
      ],
      "metadata": {
        "colab": {
          "base_uri": "https://localhost:8080/",
          "height": 35
        },
        "id": "WtDNWA8EoTvn",
        "outputId": "75855dcf-c5b8-4c57-d1a6-1c2fef6181f8"
      },
      "execution_count": 57,
      "outputs": [
        {
          "output_type": "execute_result",
          "data": {
            "text/plain": [
              "'8'"
            ],
            "application/vnd.google.colaboratory.intrinsic+json": {
              "type": "string"
            }
          },
          "metadata": {},
          "execution_count": 57
        }
      ]
    },
    {
      "cell_type": "markdown",
      "source": [
        "**e.** '9'\n"
      ],
      "metadata": {
        "id": "_lvUwxucoN7z"
      }
    },
    {
      "cell_type": "code",
      "source": [
        "s[9]"
      ],
      "metadata": {
        "colab": {
          "base_uri": "https://localhost:8080/",
          "height": 35
        },
        "id": "RJziCz_Un4ti",
        "outputId": "c72cfd34-2017-440c-c1d1-0e7ca5c70ba6"
      },
      "execution_count": 58,
      "outputs": [
        {
          "output_type": "execute_result",
          "data": {
            "text/plain": [
              "'9'"
            ],
            "application/vnd.google.colaboratory.intrinsic+json": {
              "type": "string"
            }
          },
          "metadata": {},
          "execution_count": 58
        }
      ]
    }
  ]
}